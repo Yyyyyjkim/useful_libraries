{
  "nbformat": 4,
  "nbformat_minor": 0,
  "metadata": {
    "colab": {
      "name": "Ray.ipynb",
      "provenance": [],
      "collapsed_sections": [],
      "authorship_tag": "ABX9TyOc7qz1/htjfBKifbehrVRB",
      "include_colab_link": true
    },
    "kernelspec": {
      "name": "python3",
      "display_name": "Python 3"
    },
    "language_info": {
      "name": "python"
    }
  },
  "cells": [
    {
      "cell_type": "markdown",
      "metadata": {
        "id": "view-in-github",
        "colab_type": "text"
      },
      "source": [
        "<a href=\"https://colab.research.google.com/github/Yyyyyjkim/useful_libraries/blob/main/Ray.ipynb\" target=\"_parent\"><img src=\"https://colab.research.google.com/assets/colab-badge.svg\" alt=\"Open In Colab\"/></a>"
      ]
    },
    {
      "cell_type": "code",
      "execution_count": null,
      "metadata": {
        "id": "YCMJyyx1ue67"
      },
      "outputs": [],
      "source": [
        "# !pip install ray[default]\n",
        "# !pip install localhost_on_colab"
      ]
    },
    {
      "cell_type": "code",
      "source": [
        "import ray\n",
        "import time\n",
        "import numpy as np\n",
        "import random\n",
        "from localhost_on_colab.core import LocalHostOnColab\n",
        "\n",
        "# bridge = LocalHostOnColab()\n",
        "\n",
        "# url = bridge.run(\n",
        "#     function = ray.init,\n",
        "#     kwargs = {'dashboard_port': 1234},\n",
        "#     port = 1234\n",
        "# )\n",
        "\n",
        "# print(url)"
      ],
      "metadata": {
        "id": "r4mUitJRoLz-"
      },
      "execution_count": 4,
      "outputs": []
    },
    {
      "cell_type": "markdown",
      "source": [
        "# list comprehension"
      ],
      "metadata": {
        "id": "M6_qR79a1dz0"
      }
    },
    {
      "cell_type": "code",
      "source": [
        "num_list = [random.sample(range(100), 5) for i in range(1000)]"
      ],
      "metadata": {
        "id": "dnru-w1K3BEo"
      },
      "execution_count": 5,
      "outputs": []
    },
    {
      "cell_type": "code",
      "source": [
        "def get_multiply(num_list):\n",
        "  return np.prod(num_list)\n",
        "\n",
        "start = time.time()\n",
        "result = [get_multiply(i) for i in num_list]\n",
        "end = time.time()\n",
        "\n",
        "print(f\"{end-start}\")"
      ],
      "metadata": {
        "colab": {
          "base_uri": "https://localhost:8080/"
        },
        "id": "wPqtDCgC206f",
        "outputId": "02d06834-ea68-4dd7-b5f1-9ac87cd7a8bd"
      },
      "execution_count": 6,
      "outputs": [
        {
          "output_type": "stream",
          "name": "stdout",
          "text": [
            "0.010631084442138672\n"
          ]
        }
      ]
    },
    {
      "cell_type": "code",
      "source": [
        "ray.init()\n",
        "\n",
        "@ray.remote\n",
        "def get_multiply(num_list):\n",
        "  return np.prod(num_list)\n",
        "\n",
        "start = time.time()\n",
        "jobs = [get_multiply.remote(i) for i in num_list]\n",
        "result = ray.get(jobs)\n",
        "end = time.time()\n",
        "\n",
        "print(f\"{end-start}\")"
      ],
      "metadata": {
        "colab": {
          "base_uri": "https://localhost:8080/"
        },
        "id": "CdAmpYML1dKn",
        "outputId": "9e46f6e4-a6a0-44af-9e57-6c7080e74c5b"
      },
      "execution_count": 10,
      "outputs": [
        {
          "output_type": "stream",
          "name": "stderr",
          "text": [
            "2022-04-08 05:28:20,318\tINFO services.py:1414 -- View the Ray dashboard at \u001b[1m\u001b[32mhttp://127.0.0.1:8265\u001b[39m\u001b[22m\n"
          ]
        },
        {
          "output_type": "stream",
          "name": "stdout",
          "text": [
            "0.8212692737579346\n"
          ]
        }
      ]
    },
    {
      "cell_type": "code",
      "source": [
        "ray.shutdown()"
      ],
      "metadata": {
        "id": "evTPi3QZ2mDY"
      },
      "execution_count": 11,
      "outputs": []
    },
    {
      "cell_type": "code",
      "source": [
        ""
      ],
      "metadata": {
        "id": "-SX5nK0-pOuc"
      },
      "execution_count": null,
      "outputs": []
    }
  ]
}